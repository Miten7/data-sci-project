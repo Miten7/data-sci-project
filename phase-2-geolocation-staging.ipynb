{
 "cells": [
  {
   "cell_type": "code",
   "execution_count": null,
   "metadata": {},
   "outputs": [],
   "source": [
    "import pandas as pd"
   ]
  },
  {
   "cell_type": "code",
   "execution_count": null,
   "metadata": {},
   "outputs": [],
   "source": [
    "# load data into dataframe\n",
    "path = 'NPRI_Geolocations.csv' # path to csv file\n",
    "df = pd.read_csv(path, low_memory=False)"
   ]
  },
  {
   "cell_type": "code",
   "execution_count": null,
   "metadata": {},
   "outputs": [],
   "source": [
    "df"
   ]
  },
  {
   "cell_type": "code",
   "execution_count": null,
   "metadata": {},
   "outputs": [],
   "source": [
    "# just keep the English name for all columns\n",
    "df.columns = [col.split(' /')[0] for col in df.columns]\n",
    "list(df.columns)"
   ]
  },
  {
   "cell_type": "code",
   "execution_count": null,
   "metadata": {},
   "outputs": [],
   "source": [
    "# drop unnecessary\n",
    "df=df.drop(['Physical Land Survey Description',\n",
    "            'National Topographical Description',\n",
    "            'Latitude',\n",
    "            'Longitude',\n",
    "            'Datum',\n",
    "            'NAICS',\n",
    "            'Key Industrial Sector Code',\n",
    "            'Key Industrial Sector (English)',\n",
    "            'Key Industrial Sector (French)',\n",
    "            'Census Division (CD) Unique ID',\n",
    "            'Census Division (CD) Name',\n",
    "            'Census Sub Division (CSD) Unique ID',\n",
    "            'Census Sub Division (CSD) Name',\n",
    "            'Census Metropolitan Area (CMA) Unique ID',\n",
    "            'Census Metropolitan Area (CMA) Name',\n",
    "            'Economic Region (ER) Unique ID',\n",
    "            'Economic Region (ER) Name',\n",
    "            'Forward Sortation Area (FSA)',\n",
    "            'Ecozone Unique ID',\n",
    "            'English Ecozone Name',\n",
    "            'French Ecozone Name',\n",
    "            'Unique ID of the Major Drainage Area from the Water Survey of Canada (WSC)',\n",
    "            'Major Drainage Area English Name',\n",
    "            'Major Drainage Area French Name',\n",
    "            'Sulphur Oxide Management Area (SOMA)',\n",
    "            'Ontario Pollution Emission Management Area (PEMA)',\n",
    "            'Quebec Pollution Emission Management Area (PEMA)',\n",
    "            'Quebec City-Windsor Corridor'], axis=1)\n",
    "list(df.columns)"
   ]
  },
  {
   "cell_type": "code",
   "execution_count": null,
   "metadata": {},
   "outputs": [],
   "source": [
    "df"
   ]
  }
 ],
 "metadata": {
  "kernelspec": {
   "display_name": "Python 3",
   "language": "python",
   "name": "python3"
  },
  "language_info": {
   "codemirror_mode": {
    "name": "ipython",
    "version": 3
   },
   "file_extension": ".py",
   "mimetype": "text/x-python",
   "name": "python",
   "nbconvert_exporter": "python",
   "pygments_lexer": "ipython3",
   "version": "3.12.0"
  }
 },
 "nbformat": 4,
 "nbformat_minor": 2
}
