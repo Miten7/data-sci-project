{
 "cells": [
  {
   "cell_type": "markdown",
   "id": "cb657285",
   "metadata": {},
   "source": [
    "# **Saving the Earth one row at a time**\n",
    "## **Phase 2: Data Staging**\n",
    "\n",
    "Group 50: \n",
    "*   Annique Granchelli - 300191993\n",
    "*   Dhiaa Naas - 300170251\n",
    "*   Miten Soni - 300202194"
   ]
  },
  {
   "cell_type": "code",
   "execution_count": null,
   "id": "d5cb5724",
   "metadata": {},
   "outputs": [],
   "source": [
    "# imports\n",
    "import pandas as pd"
   ]
  },
  {
   "cell_type": "code",
   "execution_count": null,
   "id": "47070cbe",
   "metadata": {},
   "outputs": [],
   "source": [
    "# load data into dataframe\n",
    "path = 'NPRI.csv' # path to csv file\n",
    "df = pd.read_csv(path)"
   ]
  },
  {
   "cell_type": "code",
   "execution_count": null,
   "id": "74a30ec1",
   "metadata": {},
   "outputs": [],
   "source": [
    "df"
   ]
  },
  {
   "cell_type": "code",
   "execution_count": null,
   "id": "fe1aa0fa",
   "metadata": {},
   "outputs": [],
   "source": [
    "print(df.dtypes)"
   ]
  },
  {
   "cell_type": "code",
   "execution_count": null,
   "id": "4f38c701",
   "metadata": {},
   "outputs": [],
   "source": [
    "# drop french columns\n",
    "df=df.drop(['Substance Name (French) / Nom de substance (Français)','Group (French) / Groupe (Français)','Category (French) / Catégorie (Français)'],axis=1)"
   ]
  },
  {
   "cell_type": "code",
   "execution_count": null,
   "id": "b07efa56",
   "metadata": {},
   "outputs": [],
   "source": [
    "# just keep the English name for remaining columns\n",
    "list(df.columns)"
   ]
  },
  {
   "cell_type": "code",
   "execution_count": null,
   "id": "c1debb68",
   "metadata": {},
   "outputs": [],
   "source": [
    "df = df.rename(columns={'Reporting_Year / Année':'Reporting_Year','NPRI_ID / No_INRP':'NPRI_ID','Company_Name / Dénomination_sociale_de_l\\'entreprise':'Company_Name','Facility_Name / Installation':'Facility_Name','NAICS / Code_SCIAN':'NAICS','NAICS Title / Titre Code_SCIAN':'NAICS Title','PROVINCE':'Province','CAS_Number / No_CAS':'CAS_Number','Substance Name (English) / Nom de substance (Anglais)':'Substance Name','Group (English) / Groupe (Anglais)':'Group','Category (English) / Catégorie (Anglais)':'Category','Quantity / Quantité':'Quantity','Units / Unités':'Units','Estimation_Method / Méthode_d’estimation':'Estimation_Method'})\n",
    "list(df.columns)"
   ]
  },
  {
   "cell_type": "code",
   "execution_count": null,
   "id": "7b46f034",
   "metadata": {},
   "outputs": [],
   "source": [
    "# make all the units the same - tonnes\n"
   ]
  },
  {
   "cell_type": "code",
   "execution_count": null,
   "id": "a0109c72",
   "metadata": {},
   "outputs": [],
   "source": [
    "# go over company names and make them lowercase to handle cases like: MORTON INTERNATIONAL and Morton International"
   ]
  }
 ],
 "metadata": {
  "kernelspec": {
   "display_name": "Python 3 (ipykernel)",
   "language": "python",
   "name": "python3"
  },
  "language_info": {
   "codemirror_mode": {
    "name": "ipython",
    "version": 3
   },
   "file_extension": ".py",
   "mimetype": "text/x-python",
   "name": "python",
   "nbconvert_exporter": "python",
   "pygments_lexer": "ipython3",
   "version": "3.9.13"
  }
 },
 "nbformat": 4,
 "nbformat_minor": 5
}
